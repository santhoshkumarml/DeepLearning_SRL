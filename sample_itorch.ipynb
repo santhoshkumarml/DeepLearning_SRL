{
 "cells": [
  {
   "cell_type": "code",
   "execution_count": 2,
   "metadata": {
    "collapsed": false
   },
   "outputs": [
    {
     "ename": "cannot open <cifar10-train.t7> in mode r  at /home/santhosh/torch/pkg/torch/lib/TH/THDiskFile.c:484\nstack traceback:\n\t[C]: at 0x7feee0a80780\n\t[C]: in function 'DiskFile'\n\t/home/santhosh/torch/install/share/lua/5.1/torch/File.lua:309: in function 'load'\n\t[string \"require 'torch'...\"]:5: in main chunk\n\t[C]: in function 'xpcall'\n\t/home/santhosh/torch/install/share/lua/5.1/itorch/main.lua:179: in function </home/santhosh/torch/install/share/lua/5.1/itorch/main.lua:143>\n\t/home/santhosh/torch/install/share/lua/5.1/lzmq/poller.lua:75: in function 'poll'\n\t.../santhosh/torch/install/share/lua/5.1/lzmq/impl/loop.lua:307: in function 'poll'\n\t.../santhosh/torch/install/share/lua/5.1/lzmq/impl/loop.lua:325: in function 'sleep_ex'\n\t.../santhosh/torch/install/share/lua/5.1/lzmq/impl/loop.lua:370: in function 'start'\n\t/home/santhosh/torch/install/share/lua/5.1/itorch/main.lua:350: in main chunk\n\t[C]: in function 'require'\n\t(command line):1: in main chunk\n\t[C]: at 0x00406670",
     "evalue": "",
     "output_type": "error",
     "traceback": [
      "cannot open <cifar10-train.t7> in mode r  at /home/santhosh/torch/pkg/torch/lib/TH/THDiskFile.c:484\nstack traceback:\n\t[C]: at 0x7feee0a80780\n\t[C]: in function 'DiskFile'\n\t/home/santhosh/torch/install/share/lua/5.1/torch/File.lua:309: in function 'load'\n\t[string \"require 'torch'...\"]:5: in main chunk\n\t[C]: in function 'xpcall'\n\t/home/santhosh/torch/install/share/lua/5.1/itorch/main.lua:179: in function </home/santhosh/torch/install/share/lua/5.1/itorch/main.lua:143>\n\t/home/santhosh/torch/install/share/lua/5.1/lzmq/poller.lua:75: in function 'poll'\n\t.../santhosh/torch/install/share/lua/5.1/lzmq/impl/loop.lua:307: in function 'poll'\n\t.../santhosh/torch/install/share/lua/5.1/lzmq/impl/loop.lua:325: in function 'sleep_ex'\n\t.../santhosh/torch/install/share/lua/5.1/lzmq/impl/loop.lua:370: in function 'start'\n\t/home/santhosh/torch/install/share/lua/5.1/itorch/main.lua:350: in main chunk\n\t[C]: in function 'require'\n\t(command line):1: in main chunk\n\t[C]: at 0x00406670"
     ]
    }
   ],
   "source": [
    "require 'torch'\n",
    "require 'nn'\n",
    "-- os.execute('wget -c https://s3.amazonaws.com/torch7/data/cifar10torchsmall.zip')\n",
    "-- os.execute('unzip cifar10torchsmall.zip')\n",
    "trainset = torch.load('cifar10-train.t7')\n",
    "testset = torch.load('cifar10-test.t7')\n",
    "classes = {'airplane', 'automobile', 'bird', 'cat',\n",
    "           'deer', 'dog', 'frog', 'horse', 'ship', 'truck'}"
   ]
  },
  {
   "cell_type": "code",
   "execution_count": null,
   "metadata": {
    "collapsed": true
   },
   "outputs": [],
   "source": []
  }
 ],
 "metadata": {
  "kernelspec": {
   "display_name": "iTorch",
   "language": "lua",
   "name": "itorch"
  },
  "language_info": {
   "name": "lua",
   "version": "20100"
  }
 },
 "nbformat": 4,
 "nbformat_minor": 0
}
