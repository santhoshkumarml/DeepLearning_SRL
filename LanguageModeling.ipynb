{
 "cells": [
  {
   "cell_type": "code",
   "execution_count": 2,
   "metadata": {
    "collapsed": false,
    "scrolled": true
   },
   "outputs": [
    {
     "data": {
      "text/plain": [
       "{\n",
       "  1 : \n",
       "    {\n",
       "      1 : $START$\n",
       "      2 : My\n",
       "      3 : name\n",
       "      4 : is\n",
       "      5 : Santhosh\n",
       "      6 : Kumar\n",
       "      7 : Manavasi\n",
       "      8 : Lakshminarayanan\n",
       "      9 : $END$\n",
       "    }\n",
       "  2 : \n",
       "    {\n",
       "      1 : $START$\n",
       "      2 : I\n",
       "      3 : currently\n",
       "      4 : live\n",
       "      5 : in\n",
       "      6 : Stony\n",
       "      7 : Brook\n",
       "      8 : New\n",
       "      9 : York\n",
       "      10 : $END$\n",
       "    }\n",
       "}\n"
      ]
     },
     "execution_count": 2,
     "metadata": {},
     "output_type": "execute_result"
    }
   ],
   "source": [
    "require 'torch';\n",
    "\n",
    "\n",
    "START = \"$START$\"\n",
    "FINISH = \"$END$\"\n",
    "FILE_PATH = \"dataset/language_model.data\"\n",
    "\n",
    "-- read and Store Data\n",
    "function readFile(file_path)\n",
    "    local f = io.open(file_path)\n",
    "    store = {}\n",
    "    while true do\n",
    "        local l = f:read()\n",
    "        if not l then break end\n",
    "        words = {}\n",
    "        table.insert(words, START)\n",
    "        for word in l:gmatch(\"%w+\") do table.insert(words, word) end\n",
    "        table.insert(words,FINISH)\n",
    "        table.insert(store, words)\n",
    "\tend\n",
    "\treturn store\n",
    "end\n",
    "\n",
    "-- split into windows and make training data\n",
    "function makeTrainingData(store, window_size)\n",
    "    train_data = {}\n",
    "    for idx, line in ipairs(store) do\n",
    "        size = table.getn(line)\n",
    "        no_of_windows = math.max( 1, size - window_size)\n",
    "\n",
    "        for widx = 1, no_of_windows do\n",
    "\n",
    "            training_inst = {}\n",
    "            data = {}\n",
    "\n",
    "            word_idx = widx+1\n",
    "\n",
    "            while table.getn(data) < window_size and word_idx < size do\n",
    "                table.insert(data, line[word_idx])\n",
    "                word_idx = word_idx + 1\n",
    "            end\n",
    "            \n",
    "            while word_idx >= size and table.getn(data) < window_size do\n",
    "                table.insert(data, FINISH)\n",
    "                word_idx = word_idx + 1\n",
    "            end\n",
    "            \n",
    "            training_inst.data = data\n",
    "            training_inst.label = '1'\n",
    "            table.insert(train_data, training_inst)\n",
    "        end   \n",
    "    end\n",
    "    return train_data\n",
    "end\n",
    "   \n",
    "store = readFile(FILE_PATH)\n",
    "print(makeTrainingData(store, 3))"
   ]
  },
  {
   "cell_type": "code",
   "execution_count": null,
   "metadata": {
    "collapsed": true
   },
   "outputs": [],
   "source": []
  }
 ],
 "metadata": {
  "kernelspec": {
   "display_name": "iTorch",
   "language": "lua",
   "name": "itorch"
  },
  "language_info": {
   "name": "lua",
   "version": "20100"
  }
 },
 "nbformat": 4,
 "nbformat_minor": 0
}
